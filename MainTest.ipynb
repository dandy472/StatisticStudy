{
 "cells": [
  {
   "cell_type": "code",
   "execution_count": 8,
   "id": "e3efaac5",
   "metadata": {},
   "outputs": [],
   "source": [
    "import numpy as np\n",
    "import pandas as pd\n",
    "from scipy import stats"
   ]
  },
  {
   "cell_type": "code",
   "execution_count": 40,
   "id": "4415a201",
   "metadata": {},
   "outputs": [
    {
     "data": {
      "text/plain": [
       "0.39039817664728943"
      ]
     },
     "execution_count": 40,
     "metadata": {},
     "output_type": "execute_result"
    }
   ],
   "source": [
    "n=10000\n",
    "s2=0.4*0.6\n",
    "s=s2**0.5\n",
    "s=s/n**0.5\n",
    "0.4-stats.norm.ppf(0.975)*s"
   ]
  },
  {
   "cell_type": "markdown",
   "id": "985af339",
   "metadata": {},
   "source": [
    "# Задача на скорость"
   ]
  },
  {
   "cell_type": "code",
   "execution_count": 51,
   "id": "75821ccb",
   "metadata": {},
   "outputs": [
    {
     "data": {
      "text/plain": [
       "0.04888812528612185"
      ]
     },
     "execution_count": 51,
     "metadata": {},
     "output_type": "execute_result"
    }
   ],
   "source": [
    "a = np.array([float(x) for x in '128,107,107,92,118,114,117,109,115,106,109,106,109,120,112,128,114,119,110,130'.split(',')])\n",
    "a0=110\n",
    "a_m=a.mean()\n",
    "a_d=(1/(len(a)-1))*(sum((x -a_m)**2 for x in a))\n",
    "s=(a_d/len(a))**0.5\n",
    "z=(a_m-a0)/s\n",
    "1-stats.t.cdf(z, df=len(a)-1)"
   ]
  },
  {
   "cell_type": "code",
   "execution_count": 50,
   "id": "6071a493",
   "metadata": {},
   "outputs": [
    {
     "data": {
      "text/plain": [
       "9.854520598850497"
      ]
     },
     "execution_count": 50,
     "metadata": {},
     "output_type": "execute_result"
    }
   ],
   "source": [
    "alpha=0.03\n",
    "a0=1222\n",
    "ts=np.array([float(x) for x in '1380 1344 1356 1291 1308 1271 1371 1430 1381 1457 1492 1240 1256 1466 1214 1448 1510 1395 1507 1264 1293 1251 1380 1386 1411 1434 1302 1529 1352 1494 1348 1464 1286 1345 1491 1259 1541 1214 1310 1286'.split(' ')])\n",
    "ts_m=ts.mean()\n",
    "ts_d=(1/(len(ts)-1))*(sum((x- ts_m)**2 for x in ts))\n",
    "s=ts_d**0.5/(len(ts))**0.5\n",
    "z=(ts_m-a0)/s\n",
    "z"
   ]
  },
  {
   "cell_type": "markdown",
   "id": "17f45eaf",
   "metadata": {},
   "source": [
    "# Задача на равенство мат ожиданий 2 выборок"
   ]
  },
  {
   "cell_type": "code",
   "execution_count": 103,
   "id": "2b3d8581",
   "metadata": {},
   "outputs": [
    {
     "name": "stdout",
     "output_type": "stream",
     "text": [
      "[ -4.2   2.  -11.9 -27.1  10.4  11.2 -10.7   4.5  -3.3]\n"
     ]
    },
    {
     "data": {
      "text/plain": [
       "(-0.5, 1.0)"
      ]
     },
     "execution_count": 103,
     "metadata": {},
     "output_type": "execute_result"
    }
   ],
   "source": [
    "import math\n",
    "from statsmodels.stats.descriptivestats import sign_test\n",
    "a = np.array([79.2, 65.0, 72.7, 77.1, 34.8, 33.4, 54.3, 35.5, 42.9])\n",
    "b = np.array([75, 67, 60.8, 50, 45.2, 44.6, 43.6, 40, 39.6])\n",
    "print(b-a)\n",
    "sign_test(b-a)\n",
    "#K=(sa/len(a)+sb/len(b))**2/((sa/len(a))**2/(len(a)-1)+(sb/len(b))**2/(len(b)-1))\n",
    "#scipy.stats.rankdata()\n",
    "#stats.t(df=K).ppf(1-0.05)"
   ]
  },
  {
   "cell_type": "code",
   "execution_count": 75,
   "id": "8ae9c3ee",
   "metadata": {},
   "outputs": [
    {
     "name": "stdout",
     "output_type": "stream",
     "text": [
      "-19.97623882826319 190.97623882826315\n"
     ]
    },
    {
     "data": {
      "text/plain": [
       "WilcoxonResult(statistic=17.0, pvalue=0.5703125)"
      ]
     },
     "execution_count": 75,
     "metadata": {},
     "output_type": "execute_result"
    }
   ],
   "source": [
    "alp = 0.05 # уровень значимости\n",
    "n=len(a)\n",
    "m=len(b) # объемы выборок\n",
    "mt = n*(n+m+1)/2 # мат. ожидание W при H0\n",
    "sgm = (m*n*(m+n+1)/12)*0.5# дисперсия W при H0\n",
    "zkp1 = stats.norm.ppf(alp)# z - критическое значение (левое)\n",
    "zkp2 = stats.norm.ppf(1-alp)# z - критичесокое значений (правое)\n",
    "wkp1 = mt + zkp1*sgm\n",
    "wkp2 = mt + zkp2*sgm\n",
    "print(wkp1, wkp2)\n",
    "stats.wilcoxon(b,a)"
   ]
  }
 ],
 "metadata": {
  "kernelspec": {
   "display_name": "Python 3 (ipykernel)",
   "language": "python",
   "name": "python3"
  },
  "language_info": {
   "codemirror_mode": {
    "name": "ipython",
    "version": 3
   },
   "file_extension": ".py",
   "mimetype": "text/x-python",
   "name": "python",
   "nbconvert_exporter": "python",
   "pygments_lexer": "ipython3",
   "version": "3.9.2"
  }
 },
 "nbformat": 4,
 "nbformat_minor": 5
}
