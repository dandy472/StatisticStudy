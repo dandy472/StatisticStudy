{
 "cells": [
  {
   "cell_type": "code",
   "execution_count": 8,
   "id": "e3efaac5",
   "metadata": {},
   "outputs": [],
   "source": [
    "import numpy as np\n",
    "import pandas as pd\n",
    "from scipy import stats"
   ]
  },
  {
   "cell_type": "code",
   "execution_count": 40,
   "id": "35f4e23f",
   "metadata": {},
   "outputs": [
    {
     "data": {
      "text/plain": [
       "0.39039817664728943"
      ]
     },
     "execution_count": 40,
     "metadata": {},
     "output_type": "execute_result"
    }
   ],
   "source": [
    "n=10000\n",
    "s2=0.4*0.6\n",
    "s=s2**0.5\n",
    "s=s/n**0.5\n",
    "0.4-stats.norm.ppf(0.975)*s"
   ]
  },
  {
   "cell_type": "markdown",
   "id": "985af339",
   "metadata": {},
   "source": [
    "# Задача на скорость"
   ]
  },
  {
   "cell_type": "code",
   "execution_count": 3,
   "id": "75821ccb",
   "metadata": {},
   "outputs": [
    {
     "name": "stdout",
     "output_type": "stream",
     "text": [
      "113.5 113.0 76.75\n"
     ]
    }
   ],
   "source": [
    "a = np.array([float(x) for x in '128,107,107,92,118,114,117,109,115,106,109,106,109,120,112,128,114,119,110,130'.split(',')])\n",
    "print(np.median(a),a.mean(),  a.var())"
   ]
  },
  {
   "cell_type": "code",
   "execution_count": 7,
   "id": "6071a493",
   "metadata": {},
   "outputs": [
    {
     "data": {
      "text/plain": [
       "0.2222222222222222"
      ]
     },
     "execution_count": 7,
     "metadata": {},
     "output_type": "execute_result"
    }
   ],
   "source": [
    "# Выборочная дисперсия = D/(n-1)\n",
    "2/(10-1)"
   ]
  }
 ],
 "metadata": {
  "kernelspec": {
   "display_name": "Python 3 (ipykernel)",
   "language": "python",
   "name": "python3"
  },
  "language_info": {
   "codemirror_mode": {
    "name": "ipython",
    "version": 3
   },
   "file_extension": ".py",
   "mimetype": "text/x-python",
   "name": "python",
   "nbconvert_exporter": "python",
   "pygments_lexer": "ipython3",
   "version": "3.9.2"
  }
 },
 "nbformat": 4,
 "nbformat_minor": 5
}
