{
 "cells": [
  {
   "cell_type": "code",
   "execution_count": 21,
   "id": "ee9d5f42",
   "metadata": {},
   "outputs": [],
   "source": [
    "import numpy as np\n",
    "from numpy import array\n",
    "from scipy import stats\n",
    "def Q1Q2(x):\n",
    "    n = np.array([len(xi) for xi in x]) # объемы выборок\n",
    "    N = n.sum()\n",
    "    k=len(n)\n",
    "    xms = [xi.mean() for xi in x] # средние выборок\n",
    "    xm = sum([xi.sum() for xi in x])/N # средняя по всем выборкам\n",
    "    \n",
    "    Q1 = sum([((xi-xmi)**2).sum() for xi, xmi in zip(x,xms)])\n",
    "    Q2 = np.dot(n, (xms-xm)**2)\n",
    "    \n",
    "    f=(Q2/(k-1))/(Q1/(N-k))\n",
    "    \n",
    "    return [Q1, Q2, N, k, f]"
   ]
  },
  {
   "cell_type": "code",
   "execution_count": 3,
   "id": "b6020e49",
   "metadata": {
    "scrolled": true
   },
   "outputs": [
    {
     "data": {
      "text/html": [
       "<div>\n",
       "<style scoped>\n",
       "    .dataframe tbody tr th:only-of-type {\n",
       "        vertical-align: middle;\n",
       "    }\n",
       "\n",
       "    .dataframe tbody tr th {\n",
       "        vertical-align: top;\n",
       "    }\n",
       "\n",
       "    .dataframe thead th {\n",
       "        text-align: right;\n",
       "    }\n",
       "</style>\n",
       "<table border=\"1\" class=\"dataframe\">\n",
       "  <thead>\n",
       "    <tr style=\"text-align: right;\">\n",
       "      <th></th>\n",
       "      <th>Game</th>\n",
       "      <th>Time</th>\n",
       "    </tr>\n",
       "  </thead>\n",
       "  <tbody>\n",
       "    <tr>\n",
       "      <th>0</th>\n",
       "      <td>1</td>\n",
       "      <td>39.2</td>\n",
       "    </tr>\n",
       "    <tr>\n",
       "      <th>1</th>\n",
       "      <td>1</td>\n",
       "      <td>2.7</td>\n",
       "    </tr>\n",
       "    <tr>\n",
       "      <th>2</th>\n",
       "      <td>1</td>\n",
       "      <td>9.2</td>\n",
       "    </tr>\n",
       "    <tr>\n",
       "      <th>3</th>\n",
       "      <td>1</td>\n",
       "      <td>14.6</td>\n",
       "    </tr>\n",
       "    <tr>\n",
       "      <th>4</th>\n",
       "      <td>1</td>\n",
       "      <td>1.9</td>\n",
       "    </tr>\n",
       "  </tbody>\n",
       "</table>\n",
       "</div>"
      ],
      "text/plain": [
       "   Game  Time\n",
       "0     1  39.2\n",
       "1     1   2.7\n",
       "2     1   9.2\n",
       "3     1  14.6\n",
       "4     1   1.9"
      ]
     },
     "execution_count": 3,
     "metadata": {},
     "output_type": "execute_result"
    }
   ],
   "source": [
    "import pandas as pd\n",
    "df=pd.read_table('/home/geoteg/Загрузки/rugby.txt')\n",
    "df.head()"
   ]
  },
  {
   "cell_type": "code",
   "execution_count": 28,
   "id": "7ecb9768",
   "metadata": {},
   "outputs": [
    {
     "name": "stdout",
     "output_type": "stream",
     "text": [
      "1.889525776660891\n",
      "3.8867057658980033\n"
     ]
    }
   ],
   "source": [
    "#df['Game'].unique()\n",
    "a=list()\n",
    "for i in df['Game'].unique():\n",
    "    arr=df['Time'].loc[df['Game']==i].to_numpy()\n",
    "    a.append(arr)\n",
    "res=Q1Q2(a)\n",
    "alpha=0.05\n",
    "print(stats.f.ppf(1-alpha,res[3]-1,res[2]-res[3]))\n",
    "print(res[4])"
   ]
  },
  {
   "cell_type": "code",
   "execution_count": 25,
   "id": "c5c2edcc",
   "metadata": {
    "scrolled": true
   },
   "outputs": [
    {
     "name": "stdout",
     "output_type": "stream",
     "text": [
      "2.4954833142354644\n",
      "44.991068066769834\n"
     ]
    }
   ],
   "source": [
    "a1=array([5.9, 6.0, 7.0, 6.5, 5.5, 7.0, 8.1, 7.5, 6.2, 6.4, 7.1, 6.9])\n",
    "a2=array([4.0, 5.1, 6.2, 5.3, 4.5, 4.4, 5.3, 5.4, 5.6, 5.2])\n",
    "a3=array([8.2, 6.8, 8.0, 7.5, 7.2, 7.9, 8.1, 8.5, 7.8, 8.1])\n",
    "alpha=0.1\n",
    "a=list()\n",
    "a.append(a1)\n",
    "a.append(a2)\n",
    "a.append(a3)\n",
    "res=Q1Q2(a)\n",
    "print(stats.f.ppf(1-alpha,res[3]-1,res[2]-res[3]))\n",
    "print(res[4])\n"
   ]
  },
  {
   "cell_type": "markdown",
   "id": "c4fb2efe",
   "metadata": {},
   "source": [
    "Линейный контраст"
   ]
  },
  {
   "cell_type": "code",
   "execution_count": 41,
   "id": "a16fdfc5",
   "metadata": {},
   "outputs": [
    {
     "name": "stdout",
     "output_type": "stream",
     "text": [
      "0.961 2.189\n"
     ]
    }
   ],
   "source": [
    "Lk12=a1.mean()-a2.mean()\n",
    "sk=(res[0]/(12*(res[2]-res[3]))+res[0]/(10*(res[2]-res[3])))**0.5\n",
    "left= Lk12-sk*((2*stats.f.ppf(1-alpha,2,res[2]-res[3]))**0.5)\n",
    "right=Lk12+sk*((2*stats.f.ppf(1-alpha,2,res[2]-res[3]))**0.5)\n",
    "print(left.round(3), right.round(3))"
   ]
  }
 ],
 "metadata": {
  "kernelspec": {
   "display_name": "Python 3 (ipykernel)",
   "language": "python",
   "name": "python3"
  },
  "language_info": {
   "codemirror_mode": {
    "name": "ipython",
    "version": 3
   },
   "file_extension": ".py",
   "mimetype": "text/x-python",
   "name": "python",
   "nbconvert_exporter": "python",
   "pygments_lexer": "ipython3",
   "version": "3.9.2"
  }
 },
 "nbformat": 4,
 "nbformat_minor": 5
}
