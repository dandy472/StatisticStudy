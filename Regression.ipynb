{
 "cells": [
  {
   "cell_type": "code",
   "execution_count": 3,
   "id": "cfdef87b",
   "metadata": {},
   "outputs": [],
   "source": [
    "import numpy as np\n",
    "from scipy import stats\n",
    "import pandas as pd\n",
    "import math\n",
    "import statsmodels.formula.api as sf"
   ]
  },
  {
   "cell_type": "markdown",
   "id": "5706b7c1",
   "metadata": {},
   "source": [
    "# Метод наименьших квадратов"
   ]
  },
  {
   "cell_type": "code",
   "execution_count": 37,
   "id": "0807df69",
   "metadata": {
    "scrolled": true
   },
   "outputs": [
    {
     "name": "stdout",
     "output_type": "stream",
     "text": [
      "                 Generalized Linear Model Regression Results                  \n",
      "==============================================================================\n",
      "Dep. Variable:                  price   No. Observations:                   44\n",
      "Model:                            GLM   Df Residuals:                       42\n",
      "Model Family:                Gaussian   Df Model:                            1\n",
      "Link Function:               identity   Scale:                          3143.2\n",
      "Method:                          IRLS   Log-Likelihood:                -238.58\n",
      "Date:                Sun, 08 Jan 2023   Deviance:                   1.3202e+05\n",
      "Time:                        17:42:24   Pearson chi2:                 1.32e+05\n",
      "No. Iterations:                     3   Pseudo R-squ. (CS):             0.7849\n",
      "Covariance Type:            nonrobust                                         \n",
      "==============================================================================\n",
      "                 coef    std err          z      P>|z|      [0.025      0.975]\n",
      "------------------------------------------------------------------------------\n",
      "Intercept  -5.209e+04   6367.328     -8.181      0.000   -6.46e+04   -3.96e+04\n",
      "year          26.0434      3.168      8.220      0.000      19.834      32.253\n",
      "==============================================================================\n"
     ]
    }
   ],
   "source": [
    "data = pd.read_csv('https://stepik.org/media/attachments/lesson/26278/car_regr.txt', sep = '\\t')\n",
    "model = sf.glm('price ~ year', data).fit()\n",
    "print(model.summary())"
   ]
  },
  {
   "cell_type": "code",
   "execution_count": 38,
   "id": "ad0413fc",
   "metadata": {},
   "outputs": [
    {
     "data": {
      "text/plain": [
       "481.1518700203121"
      ]
     },
     "execution_count": 38,
     "metadata": {},
     "output_type": "execute_result"
    }
   ],
   "source": [
    "model.aic"
   ]
  },
  {
   "cell_type": "code",
   "execution_count": 66,
   "id": "54ae0bb4",
   "metadata": {},
   "outputs": [
    {
     "data": {
      "text/plain": [
       "2009.7954545454545"
      ]
     },
     "execution_count": 66,
     "metadata": {},
     "output_type": "execute_result"
    }
   ],
   "source": [
    "# RSS\n",
    "rss=sum((data['price'].loc[i]-(-52090.27+26.0434*data['year'].loc[i]))**2 for i in range(data.shape[0]))\n",
    "# s^2\n",
    "s=round((rss/(data.shape[0]-2))**0.5,1)\n",
    "d_y=data['year'].var()\n",
    "# исправленная дисперсия = (n-1)/n\n",
    "d_y=d_y*((data.shape[0]-1)/data.shape[0])\n",
    "m_y=data['year'].mean()"
   ]
  },
  {
   "cell_type": "code",
   "execution_count": 64,
   "id": "ef49ebc1",
   "metadata": {},
   "outputs": [
    {
     "data": {
      "text/plain": [
       "6.397629609808509"
      ]
     },
     "execution_count": 64,
     "metadata": {},
     "output_type": "execute_result"
    }
   ],
   "source": [
    "alp=0.05\n",
    "stats.t.ppf(1-(alp/2),df=data.shape[0]-2)*s*(1/((data.shape[0]*d_y)**0.5))"
   ]
  },
  {
   "cell_type": "code",
   "execution_count": 69,
   "id": "d010294e",
   "metadata": {},
   "outputs": [
    {
     "data": {
      "text/plain": [
       "0.04491059188199553"
      ]
     },
     "execution_count": 69,
     "metadata": {},
     "output_type": "execute_result"
    }
   ],
   "source": [
    "# Найти вероятность \n",
    "oc=-52090.27+26.0434*2012\n",
    "vopros= 290\n",
    "x= (oc-vopros)/(s*(((1+((2012-m_y)**2/d_y))/data.shape[0])**0.5))\n",
    "1-stats.t(df=data.shape[0]-2).cdf(x)"
   ]
  },
  {
   "cell_type": "markdown",
   "id": "c879f7d7",
   "metadata": {},
   "source": [
    "# Множественная регрессия"
   ]
  },
  {
   "cell_type": "code",
   "execution_count": 195,
   "id": "7979c85d",
   "metadata": {
    "scrolled": false
   },
   "outputs": [
    {
     "name": "stdout",
     "output_type": "stream",
     "text": [
      "                            OLS Regression Results                            \n",
      "==============================================================================\n",
      "Dep. Variable:                  price   R-squared:                       0.746\n",
      "Model:                            OLS   Adj. R-squared:                  0.727\n",
      "Method:                 Least Squares   F-statistic:                     39.10\n",
      "Date:                Mon, 09 Jan 2023   Prob (F-statistic):           5.73e-12\n",
      "Time:                        20:36:51   Log-Likelihood:                -229.55\n",
      "No. Observations:                  44   AIC:                             467.1\n",
      "Df Residuals:                      40   BIC:                             474.2\n",
      "Df Model:                           3                                         \n",
      "Covariance Type:            nonrobust                                         \n",
      "==============================================================================\n",
      "                 coef    std err          t      P>|t|      [0.025      0.975]\n",
      "------------------------------------------------------------------------------\n",
      "Intercept  -4.082e+04   7846.308     -5.203      0.000   -5.67e+04    -2.5e+04\n",
      "year          20.4884      3.895      5.260      0.000      12.616      28.361\n",
      "mileage       -0.1314      0.234     -0.562      0.577      -0.604       0.341\n",
      "z           -103.5827     23.612     -4.387      0.000    -151.303     -55.862\n",
      "==============================================================================\n",
      "Omnibus:                       22.711   Durbin-Watson:                   2.115\n",
      "Prob(Omnibus):                  0.000   Jarque-Bera (JB):               41.311\n",
      "Skew:                          -1.436   Prob(JB):                     1.07e-09\n",
      "Kurtosis:                       6.780   Cond. No.                     2.24e+06\n",
      "==============================================================================\n",
      "\n",
      "Notes:\n",
      "[1] Standard Errors assume that the covariance matrix of the errors is correctly specified.\n",
      "[2] The condition number is large, 2.24e+06. This might indicate that there are\n",
      "strong multicollinearity or other numerical problems.\n"
     ]
    }
   ],
   "source": [
    "datas = pd.read_table('https://stepik.org/media/attachments/lesson/26278/car_regr.txt')\n",
    "datas['z']=datas['auto'].apply(lambda x: 1 if x=='MT' else 0)\n",
    "model = sf.ols('price ~ year+mileage+z', datas).fit()\n",
    "print(model.summary())"
   ]
  },
  {
   "cell_type": "code",
   "execution_count": 205,
   "id": "64f070b7",
   "metadata": {},
   "outputs": [
    {
     "data": {
      "text/plain": [
       "0.07123567304141233"
      ]
     },
     "execution_count": 205,
     "metadata": {},
     "output_type": "execute_result"
    }
   ],
   "source": [
    "a=datas[['year','mileage','z']].values\n",
    "zer=np.ones(datas.shape[0])\n",
    "a=np.insert(a,0,zer,axis=1)\n",
    "b=np.linalg.pinv(np.dot(a.T, a))\n",
    "c=np.dot(a,b)\n",
    "h=np.dot(c,a.T)[1,1]\n",
    "h"
   ]
  },
  {
   "cell_type": "code",
   "execution_count": 196,
   "id": "71812f12",
   "metadata": {},
   "outputs": [
    {
     "data": {
      "text/plain": [
       "0.47252788009069097"
      ]
     },
     "execution_count": 196,
     "metadata": {},
     "output_type": "execute_result"
    }
   ],
   "source": [
    "c_rss=sum((datas['price'].loc[i]-(-40822.537394\n",
    "                                  +20.488361*datas['year'].loc[i]\n",
    "                                  -0.131397*datas['mileage'].loc[i]\n",
    "                                  -103.582723*datas['z'].loc[i]))**2 for i in range(datas.shape[0]))\n",
    "s=(c_rss/(datas.shape[0]-3-1))**0.5\n",
    "stats.t.ppf(1-(alp/2),df=datas.shape[0]-3-1)*s*(b2)**0.5"
   ]
  },
  {
   "cell_type": "code",
   "execution_count": 206,
   "id": "2e5d1d51",
   "metadata": {},
   "outputs": [
    {
     "data": {
      "text/plain": [
       "1.2373847665800983"
      ]
     },
     "execution_count": 206,
     "metadata": {},
     "output_type": "execute_result"
    }
   ],
   "source": [
    "ei=datas['price'].loc[1]-(-40822.537394+20.488361*datas['year'].loc[1]-0.131397*datas['mileage'].loc[1]-103.582723*datas['z'].loc[1])\n",
    "ei/(s*(1-h)**0.5)"
   ]
  },
  {
   "cell_type": "code",
   "execution_count": 226,
   "id": "63fad75d",
   "metadata": {},
   "outputs": [
    {
     "data": {
      "text/plain": [
       "<matplotlib.collections.PathCollection at 0x7f8a43439880>"
      ]
     },
     "execution_count": 226,
     "metadata": {},
     "output_type": "execute_result"
    },
    {
     "data": {
      "image/png": "[encoded data removed]",
      "text/plain": [
       "<Figure size 640x480 with 1 Axes>"
      ]
     },
     "metadata": {},
     "output_type": "display_data"
    }
   ],
   "source": [
    "import matplotlib as mpl\n",
    "import matplotlib.pyplot as plt\n",
    "import seaborn as sns\n",
    "df=pd.DataFrame()\n",
    "df['y']=[float(x) for x in '4.7, 8.9, 6.2, 7.8, 8.1, 11.7, 7.2, 15.8, 1.1, 6.8, 9.1, 4.6, 21.5, 7.6, 6.2, 13.6, 30.1, 25.5, -0.1'.split(', ')]\n",
    "df['x']=[float(x) for x in np.arange(1,10.1,0.5)]\n",
    "plt.scatter(x=df['x'],y=df['y'])"
   ]
  },
  {
   "cell_type": "markdown",
   "id": "eb35b334",
   "metadata": {},
   "source": [
    "# Zadanie"
   ]
  },
  {
   "cell_type": "code",
   "execution_count": 188,
   "id": "e6ff4f5a",
   "metadata": {
    "scrolled": false
   },
   "outputs": [
    {
     "name": "stdout",
     "output_type": "stream",
     "text": [
      "                            OLS Regression Results                            \n",
      "==============================================================================\n",
      "Dep. Variable:                 weight   R-squared:                       0.336\n",
      "Model:                            OLS   Adj. R-squared:                  0.309\n",
      "Method:                 Least Squares   F-statistic:                     12.04\n",
      "Date:                Mon, 09 Jan 2023   Prob (F-statistic):           5.87e-08\n",
      "Time:                        19:52:58   Log-Likelihood:                -747.95\n",
      "No. Observations:                 100   AIC:                             1506.\n",
      "Df Residuals:                      95   BIC:                             1519.\n",
      "Df Model:                           4                                         \n",
      "Covariance Type:            nonrobust                                         \n",
      "==============================================================================\n",
      "                 coef    std err          t      P>|t|      [0.025      0.975]\n",
      "------------------------------------------------------------------------------\n",
      "Intercept  -2841.3777   1080.497     -2.630      0.010   -4986.436    -696.319\n",
      "race        -211.5715     92.795     -2.280      0.025    -395.792     -27.351\n",
      "educ           7.2494     15.695      0.462      0.645     -23.910      38.409\n",
      "smoke        -44.2528     96.350     -0.459      0.647    -235.532     147.026\n",
      "preg         157.7516     27.898      5.655      0.000     102.367     213.136\n",
      "==============================================================================\n",
      "Omnibus:                        2.212   Durbin-Watson:                   2.283\n",
      "Prob(Omnibus):                  0.331   Jarque-Bera (JB):                1.759\n",
      "Skew:                           0.316   Prob(JB):                        0.415\n",
      "Kurtosis:                       3.147   Cond. No.                     1.00e+03\n",
      "==============================================================================\n",
      "\n",
      "Notes:\n",
      "[1] Standard Errors assume that the covariance matrix of the errors is correctly specified.\n",
      "[2] The condition number is large,  1e+03. This might indicate that there are\n",
      "strong multicollinearity or other numerical problems.\n"
     ]
    }
   ],
   "source": [
    "data = pd.read_csv('https://stepik.org/media/attachments/lesson/28461/weights.txt', sep = '\\t')\n",
    "data.head()\n",
    "model = sf.ols('weight ~ race+educ+smoke+preg', data).fit()\n",
    "print(model.summary())"
   ]
  },
  {
   "cell_type": "code",
   "execution_count": 190,
   "id": "b7de5b18",
   "metadata": {},
   "outputs": [
    {
     "data": {
      "text/plain": [
       "1507.9049405861435"
      ]
     },
     "execution_count": 190,
     "metadata": {},
     "output_type": "execute_result"
    }
   ],
   "source": [
    "model.aic+2"
   ]
  },
  {
   "cell_type": "code",
   "execution_count": 175,
   "id": "b50b48b6",
   "metadata": {},
   "outputs": [],
   "source": [
    "# RSS\n",
    "rss=sum((data['weight'].loc[i]-(-2841.38\n",
    "                                -211.57*data['race'].loc[i]\n",
    "                                +7.25*data['educ'].loc[i]\n",
    "                                -44.25*data['smoke'].loc[i]\n",
    "                                +157.75*data['preg'].loc[i]))**2 for i in range(data.shape[0]))\n",
    "s2=rss/(99-4)"
   ]
  },
  {
   "cell_type": "code",
   "execution_count": 176,
   "id": "c15537e7",
   "metadata": {},
   "outputs": [
    {
     "data": {
      "text/plain": [
       "55.384250039339896"
      ]
     },
     "execution_count": 176,
     "metadata": {},
     "output_type": "execute_result"
    }
   ],
   "source": [
    "A=data[['race','educ','smoke','preg']].values\n",
    "zer=np.ones(data.shape[0])\n",
    "A=np.insert(A,0,zer,axis=1)\n",
    "b4=np.linalg.pinv(np.dot(A.T, A))[4,4] \n",
    "stats.t.ppf(1-(alp/2),df=data.shape[0]-4-1)*(s2*b4)**0.5"
   ]
  }
 ],
 "metadata": {
  "kernelspec": {
   "display_name": "Python 3 (ipykernel)",
   "language": "python",
   "name": "python3"
  },
  "language_info": {
   "codemirror_mode": {
    "name": "ipython",
    "version": 3
   },
   "file_extension": ".py",
   "mimetype": "text/x-python",
   "name": "python",
   "nbconvert_exporter": "python",
   "pygments_lexer": "ipython3",
   "version": "3.9.2"
  }
 },
 "nbformat": 4,
 "nbformat_minor": 5
}
