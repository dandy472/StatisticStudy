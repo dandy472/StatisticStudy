{
 "cells": [
  {
   "cell_type": "code",
   "execution_count": 3,
   "id": "aacd8cbb",
   "metadata": {},
   "outputs": [],
   "source": [
    "import numpy as np\n",
    "from scipy import stats\n",
    "import pandas as pd\n",
    "import math\n",
    "import statsmodels.formula.api as sf"
   ]
  },
  {
   "cell_type": "markdown",
   "id": "625622bc",
   "metadata": {},
   "source": [
    "# Метод наименьших квадратов"
   ]
  },
  {
   "cell_type": "code",
   "execution_count": 37,
   "id": "d1260755",
   "metadata": {
    "scrolled": true
   },
   "outputs": [
    {
     "name": "stdout",
     "output_type": "stream",
     "text": [
      "                 Generalized Linear Model Regression Results                  \n",
      "==============================================================================\n",
      "Dep. Variable:                  price   No. Observations:                   44\n",
      "Model:                            GLM   Df Residuals:                       42\n",
      "Model Family:                Gaussian   Df Model:                            1\n",
      "Link Function:               identity   Scale:                          3143.2\n",
      "Method:                          IRLS   Log-Likelihood:                -238.58\n",
      "Date:                Sun, 08 Jan 2023   Deviance:                   1.3202e+05\n",
      "Time:                        17:42:24   Pearson chi2:                 1.32e+05\n",
      "No. Iterations:                     3   Pseudo R-squ. (CS):             0.7849\n",
      "Covariance Type:            nonrobust                                         \n",
      "==============================================================================\n",
      "                 coef    std err          z      P>|z|      [0.025      0.975]\n",
      "------------------------------------------------------------------------------\n",
      "Intercept  -5.209e+04   6367.328     -8.181      0.000   -6.46e+04   -3.96e+04\n",
      "year          26.0434      3.168      8.220      0.000      19.834      32.253\n",
      "==============================================================================\n"
     ]
    }
   ],
   "source": [
    "data = pd.read_csv('https://stepik.org/media/attachments/lesson/26278/car_regr.txt', sep = '\\t')\n",
    "model = sf.glm('price ~ year', data).fit()\n",
    "print(model.summary())"
   ]
  },
  {
   "cell_type": "code",
   "execution_count": 38,
   "id": "a23f07a7",
   "metadata": {},
   "outputs": [
    {
     "data": {
      "text/plain": [
       "481.1518700203121"
      ]
     },
     "execution_count": 38,
     "metadata": {},
     "output_type": "execute_result"
    }
   ],
   "source": [
    "model.aic"
   ]
  },
  {
   "cell_type": "code",
   "execution_count": 66,
   "id": "41b562d3",
   "metadata": {},
   "outputs": [
    {
     "data": {
      "text/plain": [
       "2009.7954545454545"
      ]
     },
     "execution_count": 66,
     "metadata": {},
     "output_type": "execute_result"
    }
   ],
   "source": [
    "# RSS\n",
    "rss=sum((data['price'].loc[i]-(-52090.27+26.0434*data['year'].loc[i]))**2 for i in range(data.shape[0]))\n",
    "# s^2\n",
    "s=round((rss/(data.shape[0]-2))**0.5,1)\n",
    "d_y=data['year'].var()\n",
    "# исправленная дисперсия = (n-1)/n\n",
    "d_y=d_y*((data.shape[0]-1)/data.shape[0])\n",
    "m_y=data['year'].mean()"
   ]
  },
  {
   "cell_type": "code",
   "execution_count": 64,
   "id": "146e4ba7",
   "metadata": {},
   "outputs": [
    {
     "data": {
      "text/plain": [
       "6.397629609808509"
      ]
     },
     "execution_count": 64,
     "metadata": {},
     "output_type": "execute_result"
    }
   ],
   "source": [
    "alp=0.05\n",
    "stats.t.ppf(1-(alp/2),df=data.shape[0]-2)*s*(1/((data.shape[0]*d_y)**0.5))"
   ]
  },
  {
   "cell_type": "code",
   "execution_count": 69,
   "id": "a1d2c0cf",
   "metadata": {},
   "outputs": [
    {
     "data": {
      "text/plain": [
       "0.04491059188199553"
      ]
     },
     "execution_count": 69,
     "metadata": {},
     "output_type": "execute_result"
    }
   ],
   "source": [
    "# Найти вероятность \n",
    "oc=-52090.27+26.0434*2012\n",
    "vopros= 290\n",
    "x= (oc-vopros)/(s*(((1+((2012-m_y)**2/d_y))/data.shape[0])**0.5))\n",
    "1-stats.t(df=data.shape[0]-2).cdf(x)"
   ]
  },
  {
   "cell_type": "markdown",
   "id": "a7d67ea2",
   "metadata": {},
   "source": [
    "# Множественная регрессия"
   ]
  },
  {
   "cell_type": "code",
   "execution_count": 95,
   "id": "7259ade2",
   "metadata": {},
   "outputs": [
    {
     "name": "stdout",
     "output_type": "stream",
     "text": [
      "                 Generalized Linear Model Regression Results                  \n",
      "==============================================================================\n",
      "Dep. Variable:                  price   No. Observations:                   44\n",
      "Model:                            GLM   Df Residuals:                       40\n",
      "Model Family:                Gaussian   Df Model:                            3\n",
      "Link Function:               identity   Scale:                          2189.7\n",
      "Method:                          IRLS   Log-Likelihood:                -229.55\n",
      "Date:                Sun, 08 Jan 2023   Deviance:                       87587.\n",
      "Time:                        21:23:02   Pearson chi2:                 8.76e+04\n",
      "No. Iterations:                     3   Pseudo R-squ. (CS):             0.9308\n",
      "Covariance Type:            nonrobust                                         \n",
      "==============================================================================\n",
      "                 coef    std err          z      P>|z|      [0.025      0.975]\n",
      "------------------------------------------------------------------------------\n",
      "Intercept  -4.082e+04   7846.308     -5.203      0.000   -5.62e+04   -2.54e+04\n",
      "year          20.4884      3.895      5.260      0.000      12.854      28.123\n",
      "mileage       -0.1314      0.234     -0.562      0.574      -0.590       0.327\n",
      "z           -103.5827     23.612     -4.387      0.000    -149.861     -57.305\n",
      "==============================================================================\n"
     ]
    }
   ],
   "source": [
    "\n",
    "datas = pd.read_csv('https://stepik.org/media/attachments/lesson/26278/car_regr.txt', sep = '\\t')\n",
    "datas['z']=datas['auto'].apply(lambda x: 1 if x=='MT' else 0)\n",
    "\n",
    "model = sf.glm('price ~ year+mileage+z', datas).fit()\n",
    "print(model.summary())"
   ]
  },
  {
   "cell_type": "markdown",
   "id": "0c06aaf5",
   "metadata": {},
   "source": [
    "# Zadanie"
   ]
  },
  {
   "cell_type": "code",
   "execution_count": 71,
   "id": "edd1f18c",
   "metadata": {
    "scrolled": true
   },
   "outputs": [
    {
     "name": "stdout",
     "output_type": "stream",
     "text": [
      "                 Generalized Linear Model Regression Results                  \n",
      "==============================================================================\n",
      "Dep. Variable:                 weight   No. Observations:                  100\n",
      "Model:                            GLM   Df Residuals:                       95\n",
      "Model Family:                Gaussian   Df Model:                            4\n",
      "Link Function:               identity   Scale:                      1.9339e+05\n",
      "Method:                          IRLS   Log-Likelihood:                -747.95\n",
      "Date:                Sun, 08 Jan 2023   Deviance:                   1.8372e+07\n",
      "Time:                        19:03:29   Pearson chi2:                 1.84e+07\n",
      "No. Iterations:                     3   Pseudo R-squ. (CS):             0.3831\n",
      "Covariance Type:            nonrobust                                         \n",
      "==============================================================================\n",
      "                 coef    std err          z      P>|z|      [0.025      0.975]\n",
      "------------------------------------------------------------------------------\n",
      "Intercept  -2841.3777   1080.497     -2.630      0.009   -4959.114    -723.642\n",
      "race        -211.5715     92.795     -2.280      0.023    -393.446     -29.697\n",
      "educ           7.2494     15.695      0.462      0.644     -23.513      38.012\n",
      "smoke        -44.2528     96.350     -0.459      0.646    -233.095     144.590\n",
      "preg         157.7516     27.898      5.655      0.000     103.073     212.430\n",
      "==============================================================================\n"
     ]
    }
   ],
   "source": [
    "data = pd.read_csv('https://stepik.org/media/attachments/lesson/28461/weights.txt', sep = '\\t')\n",
    "data.head()\n",
    "model = sf.glm('weight ~ race+educ+smoke+preg', data).fit()\n",
    "print(model.summary())"
   ]
  },
  {
   "cell_type": "code",
   "execution_count": 85,
   "id": "6c1a5dfe",
   "metadata": {},
   "outputs": [
    {
     "data": {
      "text/plain": [
       "193390.28941789473"
      ]
     },
     "execution_count": 85,
     "metadata": {},
     "output_type": "execute_result"
    }
   ],
   "source": [
    "# RSS\n",
    "rss=sum((data['weight'].loc[i]-(-2841.38\n",
    "                                -211.57*data['race'].loc[i]\n",
    "                                +7.25*data['educ'].loc[i]\n",
    "                                -44.25*data['smoke'].loc[i]\n",
    "                                +157.75*data['preg'].loc[i]))**2 for i in range(data.shape[0]))\n",
    "rss/(99-4)"
   ]
  },
  {
   "cell_type": "code",
   "execution_count": null,
   "id": "74a407f2",
   "metadata": {},
   "outputs": [],
   "source": []
  }
 ],
 "metadata": {
  "kernelspec": {
   "display_name": "Python 3 (ipykernel)",
   "language": "python",
   "name": "python3"
  },
  "language_info": {
   "codemirror_mode": {
    "name": "ipython",
    "version": 3
   },
   "file_extension": ".py",
   "mimetype": "text/x-python",
   "name": "python",
   "nbconvert_exporter": "python",
   "pygments_lexer": "ipython3",
   "version": "3.9.2"
  }
 },
 "nbformat": 4,
 "nbformat_minor": 5
}
