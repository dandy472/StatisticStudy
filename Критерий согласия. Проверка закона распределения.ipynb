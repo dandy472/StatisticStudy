{
 "cells": [
  {
   "cell_type": "code",
   "execution_count": 9,
   "id": "7fe3d212",
   "metadata": {
    "scrolled": true
   },
   "outputs": [
    {
     "data": {
      "text/plain": [
       "7"
      ]
     },
     "execution_count": 9,
     "metadata": {},
     "output_type": "execute_result"
    }
   ],
   "source": [
    "import numpy as np\n",
    "import pandas\n",
    "from numpy import array\n",
    "from scipy import stats\n",
    "arr=array([float(x) for x in '0.29 0.01 0.50 0.21 0.65 0.34 0.75 0.07 0.07 0.25 1.26 0.11 0.22 0.95 0.63 0.93 0.73 0.37 0.80 1.10'.split(' ')])\n",
    "s=sum((s>0.2 and s<=0.5) for s in arr)\n",
    "s"
   ]
  },
  {
   "cell_type": "markdown",
   "id": "6fb0812e",
   "metadata": {},
   "source": [
    " вероятность попадания генеральной совокупности в интервал "
   ]
  },
  {
   "cell_type": "code",
   "execution_count": 12,
   "id": "17d4e004",
   "metadata": {},
   "outputs": [
    {
     "name": "stdout",
     "output_type": "stream",
     "text": [
      "0.302440604864197\n"
     ]
    }
   ],
   "source": [
    "ex=stats.expon(scale=0.5)\n",
    "print(ex.cdf(0.5)-ex.cdf(0.2))"
   ]
  },
  {
   "cell_type": "markdown",
   "id": "b6d60ef3",
   "metadata": {},
   "source": [
    "Квантиль распределения, где df= число интервалов-1 и статистика критерия с p-value"
   ]
  },
  {
   "cell_type": "code",
   "execution_count": 14,
   "id": "ec43139d",
   "metadata": {},
   "outputs": [
    {
     "data": {
      "text/plain": [
       "9.21034037197618"
      ]
     },
     "execution_count": 14,
     "metadata": {},
     "output_type": "execute_result"
    }
   ],
   "source": [
    "alpha=0.01\n",
    "stats.chi2(df=2).ppf(1-alpha)"
   ]
  },
  {
   "cell_type": "code",
   "execution_count": 57,
   "id": "9be5a5b5",
   "metadata": {
    "scrolled": true
   },
   "outputs": [
    {
     "data": {
      "text/plain": [
       "Power_divergenceResult(statistic=1.5364013495934465, pvalue=nan)"
      ]
     },
     "execution_count": 57,
     "metadata": {},
     "output_type": "execute_result"
    }
   ],
   "source": [
    "#считае статистику по заданным интервалам\n",
    "delta=[0, 0.2, 0.5, 1000]\n",
    "N=len(arr)\n",
    "n=[]\n",
    "for i in range(0,len(delta)-1):\n",
    "    temp=0\n",
    "    for s in arr:\n",
    "        if s>delta[i] and s<=delta[i+1]:\n",
    "            temp=temp+1\n",
    "    n.append(temp)\n",
    "p=[N*(ex.cdf(0.2)),N*(ex.cdf(0.5)-ex.cdf(0.2)),N*(1-ex.cdf(0.5))]\n",
    "stats.chisquare(n,p,ddof=N-1)"
   ]
  }
 ],
 "metadata": {
  "kernelspec": {
   "display_name": "Python 3 (ipykernel)",
   "language": "python",
   "name": "python3"
  },
  "language_info": {
   "codemirror_mode": {
    "name": "ipython",
    "version": 3
   },
   "file_extension": ".py",
   "mimetype": "text/x-python",
   "name": "python",
   "nbconvert_exporter": "python",
   "pygments_lexer": "ipython3",
   "version": "3.9.2"
  }
 },
 "nbformat": 4,
 "nbformat_minor": 5
}
