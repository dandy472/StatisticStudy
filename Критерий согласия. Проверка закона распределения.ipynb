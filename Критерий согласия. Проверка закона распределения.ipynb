{
 "cells": [
  {
   "cell_type": "code",
   "execution_count": 9,
   "id": "43df265d",
   "metadata": {
    "scrolled": true
   },
   "outputs": [
    {
     "data": {
      "text/plain": [
       "7"
      ]
     },
     "execution_count": 9,
     "metadata": {},
     "output_type": "execute_result"
    }
   ],
   "source": [
    "import numpy as np\n",
    "import pandas\n",
    "from numpy import array\n",
    "from scipy import stats\n",
    "arr=array([float(x) for x in '0.29 0.01 0.50 0.21 0.65 0.34 0.75 0.07 0.07 0.25 1.26 0.11 0.22 0.95 0.63 0.93 0.73 0.37 0.80 1.10'.split(' ')])\n",
    "s=sum((s>0.2 and s<=0.5) for s in arr)\n",
    "s"
   ]
  },
  {
   "cell_type": "markdown",
   "id": "5658d04f",
   "metadata": {},
   "source": [
    " вероятность попадания генеральной совокупности в интервал "
   ]
  },
  {
   "cell_type": "code",
   "execution_count": 12,
   "id": "b44c7d5f",
   "metadata": {},
   "outputs": [
    {
     "name": "stdout",
     "output_type": "stream",
     "text": [
      "0.302440604864197\n"
     ]
    }
   ],
   "source": [
    "ex=stats.expon(scale=0.5)\n",
    "print(ex.cdf(0.5)-ex.cdf(0.2))"
   ]
  },
  {
   "cell_type": "markdown",
   "id": "dd17badf",
   "metadata": {},
   "source": [
    "Квантиль распределения, где df= число интервалов-1 и статистика критерия с p-value"
   ]
  },
  {
   "cell_type": "code",
   "execution_count": 14,
   "id": "9abca1e5",
   "metadata": {},
   "outputs": [
    {
     "data": {
      "text/plain": [
       "9.21034037197618"
      ]
     },
     "execution_count": 14,
     "metadata": {},
     "output_type": "execute_result"
    }
   ],
   "source": [
    "alpha=0.01\n",
    "stats.chi2(df=2).ppf(1-alpha)"
   ]
  },
  {
   "cell_type": "code",
   "execution_count": 57,
   "id": "bca19f4e",
   "metadata": {
    "scrolled": true
   },
   "outputs": [
    {
     "data": {
      "text/plain": [
       "Power_divergenceResult(statistic=1.5364013495934465, pvalue=nan)"
      ]
     },
     "execution_count": 57,
     "metadata": {},
     "output_type": "execute_result"
    }
   ],
   "source": [
    "#считае статистику по заданным интервалам\n",
    "delta=[0, 0.2, 0.5, 1000]\n",
    "N=len(arr)\n",
    "n=[]\n",
    "for i in range(0,len(delta)-1):\n",
    "    temp=0\n",
    "    for s in arr:\n",
    "        if s>delta[i] and s<=delta[i+1]:\n",
    "            temp=temp+1\n",
    "    n.append(temp)\n",
    "p=[N*(ex.cdf(0.2)),N*(ex.cdf(0.5)-ex.cdf(0.2)),N*(1-ex.cdf(0.5))]\n",
    "stats.chisquare(n,p,ddof=N-1)"
   ]
  },
  {
   "cell_type": "code",
   "execution_count": 101,
   "id": "b91b275e",
   "metadata": {
    "scrolled": true
   },
   "outputs": [
    {
     "name": "stdout",
     "output_type": "stream",
     "text": [
      "0.3666666666666666 0.8198915917499228\n"
     ]
    }
   ],
   "source": [
    "# Колмогоров\n",
    "\n",
    "data =np.array(np.sort([13.0, 9.8, 10.2, 12.9, 10.4]))\n",
    "n = len(data)\n",
    "\n",
    "Dn1, _ = stats.kstest(data, lambda x: stats.uniform.cdf(x, loc=9, scale=6))\n",
    "SDn1 = np.sqrt(n)*Dn1\n",
    "print(Dn1,SDn1)\n",
    "# значения квантиля ищи в таблице http://datalearning.ru/index.php/textbook?cid=1&mid=4&topic=0\n"
   ]
  },
  {
   "cell_type": "code",
   "execution_count": 138,
   "id": "47a4e2e5",
   "metadata": {},
   "outputs": [
    {
     "data": {
      "text/plain": [
       "9.21034037197618"
      ]
     },
     "execution_count": 138,
     "metadata": {},
     "output_type": "execute_result"
    }
   ],
   "source": [
    "alpha=0.01\n",
    "stats.chi2(df=2).ppf(1-alpha)"
   ]
  },
  {
   "cell_type": "markdown",
   "id": "cc0bcc4e",
   "metadata": {},
   "source": [
    "Поиск лямбды по методу максимального правдоподобия"
   ]
  },
  {
   "cell_type": "code",
   "execution_count": 117,
   "id": "d51fcdfb",
   "metadata": {},
   "outputs": [
    {
     "data": {
      "text/plain": [
       "0.5957727873183619"
      ]
     },
     "execution_count": 117,
     "metadata": {},
     "output_type": "execute_result"
    }
   ],
   "source": [
    "ot=array([427, 235, 72, 21, 1, 1, 0])\n",
    "k=array([0, 1, 2, 3, 4, 5, 6])\n",
    "N=ot.sum()\n",
    "l=sum(ot[i]*k[i] for i in range (len(ot)))/N\n",
    "l"
   ]
  },
  {
   "cell_type": "code",
   "execution_count": 132,
   "id": "d1e5abb2",
   "metadata": {},
   "outputs": [
    {
     "data": {
      "text/plain": [
       "14.956214706834427"
      ]
     },
     "execution_count": 132,
     "metadata": {},
     "output_type": "execute_result"
    }
   ],
   "source": [
    "N*(stats.poisson(0.6).cdf(3)-stats.poisson(0.6).cdf(2))"
   ]
  }
 ],
 "metadata": {
  "kernelspec": {
   "display_name": "Python 3 (ipykernel)",
   "language": "python",
   "name": "python3"
  },
  "language_info": {
   "codemirror_mode": {
    "name": "ipython",
    "version": 3
   },
   "file_extension": ".py",
   "mimetype": "text/x-python",
   "name": "python",
   "nbconvert_exporter": "python",
   "pygments_lexer": "ipython3",
   "version": "3.9.2"
  }
 },
 "nbformat": 4,
 "nbformat_minor": 5
}
