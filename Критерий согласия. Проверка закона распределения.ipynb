{
 "cells": [
  {
   "cell_type": "code",
   "execution_count": 2,
   "id": "43df265d",
   "metadata": {
    "scrolled": true
   },
   "outputs": [],
   "source": [
    "import numpy as np\n",
    "import pandas as pd\n",
    "from numpy import array\n",
    "from scipy import stats\n"
   ]
  },
  {
   "cell_type": "markdown",
   "id": "5658d04f",
   "metadata": {},
   "source": [
    " вероятность попадания генеральной совокупности в интервал "
   ]
  },
  {
   "cell_type": "code",
   "execution_count": 12,
   "id": "b44c7d5f",
   "metadata": {},
   "outputs": [
    {
     "name": "stdout",
     "output_type": "stream",
     "text": [
      "0.302440604864197\n"
     ]
    }
   ],
   "source": [
    "ex=stats.expon(scale=0.5)\n",
    "print(ex.cdf(0.5)-ex.cdf(0.2))"
   ]
  },
  {
   "cell_type": "markdown",
   "id": "dd17badf",
   "metadata": {},
   "source": [
    "Квантиль распределения, где df= число интервалов-1 и статистика критерия с p-value"
   ]
  },
  {
   "cell_type": "code",
   "execution_count": 4,
   "id": "9abca1e5",
   "metadata": {},
   "outputs": [
    {
     "data": {
      "text/plain": [
       "5.991464547107979"
      ]
     },
     "execution_count": 4,
     "metadata": {},
     "output_type": "execute_result"
    }
   ],
   "source": [
    "alpha=0.05\n",
    "stats.chi2(df=2).ppf(1-alpha)"
   ]
  },
  {
   "cell_type": "code",
   "execution_count": 57,
   "id": "bca19f4e",
   "metadata": {
    "scrolled": true
   },
   "outputs": [
    {
     "data": {
      "text/plain": [
       "Power_divergenceResult(statistic=1.5364013495934465, pvalue=nan)"
      ]
     },
     "execution_count": 57,
     "metadata": {},
     "output_type": "execute_result"
    }
   ],
   "source": [
    "#считае статистику по заданным интервалам\n",
    "delta=[0, 0.2, 0.5, 1000]\n",
    "N=len(arr)\n",
    "n=[]\n",
    "for i in range(0,len(delta)-1):\n",
    "    temp=0\n",
    "    for s in arr:\n",
    "        if s>delta[i] and s<=delta[i+1]:\n",
    "            temp=temp+1\n",
    "    n.append(temp)\n",
    "p=[N*(ex.cdf(0.2)),N*(ex.cdf(0.5)-ex.cdf(0.2)),N*(1-ex.cdf(0.5))]\n",
    "stats.chisquare(n,p,ddof=N-1)"
   ]
  },
  {
   "cell_type": "code",
   "execution_count": 101,
   "id": "b91b275e",
   "metadata": {
    "scrolled": true
   },
   "outputs": [
    {
     "name": "stdout",
     "output_type": "stream",
     "text": [
      "0.3666666666666666 0.8198915917499228\n"
     ]
    }
   ],
   "source": [
    "# Колмогоров\n",
    "\n",
    "data =np.array(np.sort([13.0, 9.8, 10.2, 12.9, 10.4]))\n",
    "n = len(data)\n",
    "\n",
    "Dn1, _ = stats.kstest(data, lambda x: stats.uniform.cdf(x, loc=9, scale=6))\n",
    "SDn1 = np.sqrt(n)*Dn1\n",
    "print(Dn1,SDn1)\n",
    "# значения квантиля ищи в таблице http://datalearning.ru/index.php/textbook?cid=1&mid=4&topic=0\n"
   ]
  },
  {
   "cell_type": "code",
   "execution_count": 97,
   "id": "47a4e2e5",
   "metadata": {},
   "outputs": [
    {
     "data": {
      "text/plain": [
       "5.991464547107979"
      ]
     },
     "execution_count": 97,
     "metadata": {},
     "output_type": "execute_result"
    }
   ],
   "source": [
    "alpha=0.05\n",
    "stats.chi2(df=2).ppf(1-alpha)"
   ]
  },
  {
   "cell_type": "markdown",
   "id": "cc0bcc4e",
   "metadata": {},
   "source": [
    "Поиск лямбды по методу максимального правдоподобия"
   ]
  },
  {
   "cell_type": "code",
   "execution_count": 117,
   "id": "d51fcdfb",
   "metadata": {},
   "outputs": [
    {
     "data": {
      "text/plain": [
       "0.5957727873183619"
      ]
     },
     "execution_count": 117,
     "metadata": {},
     "output_type": "execute_result"
    }
   ],
   "source": [
    "ot=array([427, 235, 72, 21, 1, 1, 0])\n",
    "k=array([0, 1, 2, 3, 4, 5, 6])\n",
    "N=ot.sum()\n",
    "l=sum(ot[i]*k[i] for i in range (len(ot)))/N\n",
    "l"
   ]
  },
  {
   "cell_type": "code",
   "execution_count": 132,
   "id": "d1e5abb2",
   "metadata": {},
   "outputs": [
    {
     "data": {
      "text/plain": [
       "14.956214706834427"
      ]
     },
     "execution_count": 132,
     "metadata": {},
     "output_type": "execute_result"
    }
   ],
   "source": [
    "N*(stats.poisson(0.6).cdf(3)-stats.poisson(0.6).cdf(2))"
   ]
  },
  {
   "cell_type": "markdown",
   "id": "0863dd0d",
   "metadata": {},
   "source": [
    "Критерий Жарко -Бера, Андерсона-Дарлинга"
   ]
  },
  {
   "cell_type": "code",
   "execution_count": 3,
   "id": "4e823c94",
   "metadata": {},
   "outputs": [
    {
     "data": {
      "text/plain": [
       "AndersonResult(statistic=0.23459746106233226, critical_values=array([0.506, 0.577, 0.692, 0.807, 0.96 ]), significance_level=array([15. , 10. ,  5. ,  2.5,  1. ]))"
      ]
     },
     "execution_count": 3,
     "metadata": {},
     "output_type": "execute_result"
    }
   ],
   "source": [
    "a=array([float(x) for x in '3.4 7.0 3.9 6.1 0.9 4.6 6.4 3.2 1.8 4.8 3.8 5.6 1.3 3.3 3.7 2.9 5.2 3.7 5.0 3.9'.split(' ')])\n",
    "stats.jarque_bera(a)\n",
    "stats.anderson(a)"
   ]
  },
  {
   "cell_type": "code",
   "execution_count": 17,
   "id": "ba2b6f8c",
   "metadata": {},
   "outputs": [
    {
     "data": {
      "text/plain": [
       "AndersonResult(statistic=0.18253241683559907, critical_values=array([0.55 , 0.626, 0.751, 0.876, 1.042]), significance_level=array([15. , 10. ,  5. ,  2.5,  1. ]))"
      ]
     },
     "execution_count": 17,
     "metadata": {},
     "output_type": "execute_result"
    }
   ],
   "source": [
    "import math\n",
    "df=pd.read_table('tcereals.txt')\n",
    "df['logs']=df['rating'].apply(lambda x: math.log(x))\n",
    "stats.shapiro(df['logs'].to_numpy())\n",
    "stats.anderson(df['logs'].to_numpy())\n",
    "stats.l"
   ]
  },
  {
   "cell_type": "code",
   "execution_count": 20,
   "id": "f38180ce",
   "metadata": {},
   "outputs": [
    {
     "data": {
      "text/plain": [
       "0.9069223139448972"
      ]
     },
     "execution_count": 20,
     "metadata": {},
     "output_type": "execute_result"
    }
   ],
   "source": [
    "AD, _, _ = stats.anderson(df['logs'].to_numpy(), dist='norm')\n",
    "AD = AD*(1 + (.75/50) + 2.25/(50**2))\n",
    "if AD >= .6:\n",
    "    p = math.exp(1.2937 - 5.709*AD - .0186*(AD**2))\n",
    "elif AD >=.34:\n",
    "    p = math.exp(.9177 - 4.279*AD - 1.38*(AD**2))\n",
    "elif AD >.2:\n",
    "    p = 1 - math.exp(-8.318 + 42.796*AD - 59.938*(AD**2))\n",
    "else:\n",
    "    p = 1 - math.exp(-13.436 + 101.14*AD - 223.73*(AD**2))\n",
    "p"
   ]
  },
  {
   "cell_type": "code",
   "execution_count": 23,
   "id": "076d4584",
   "metadata": {
    "scrolled": true
   },
   "outputs": [
    {
     "name": "stdout",
     "output_type": "stream",
     "text": [
      "4.225416288596214,3.5258803799533944,4.084723511317006,4.5401506104957585,3.537615856816923,3.384713634784408,3.5017692701241785,3.611959586130182,3.8942714344770883,3.976195453319082,2.89274953984185,3.9272071210545745,2.9868717851067847,3.6988349334687025,3.123969187629621,3.7243677054822792,3.825665756268433,3.5774670795101544,3.1089052771003605,3.7000362845764294,4.16718936548524,3.8479247926739433,3.5884013334775933,3.7916809582930675,3.4722018906711423,3.4479528741156606,4.066376081914676,3.711546773279001,3.7139498489941283,3.3331242656418656,3.5625348601881663,3.169855440200063,3.9527214147120606,3.9772676584459083,3.8245398662671493,3.085174909304048,3.4363140758641366,3.35837387155639,3.5979608994918095,3.5965314626944047,3.669725023692764,3.8139265756318332,3.285955427222492,4.004618904904188,3.614610088167706,3.530462833921397,3.4115882425304322,3.6915250763670824,3.3986703580925948,3.706039376854184,4.088374057510989,3.416113678501755,3.6333824417348892,3.725778724803531,4.106867686213405,4.143224325552011,3.902212519596207,3.928455096097116,3.6701857352514695,3.681436826343431,4.01337204185113,3.7376442131987573,3.702786279393587,4.22297059948946,4.310435958777362,4.287740501604672,3.4413809004001203,3.9727666601598823,4.083687864116983,3.6594441037518948,3.353154413272417,3.842862491318527,3.666280357339282,3.3233547880728187,3.9077628438121987,3.9433703625911396,3.5887153857291216,"
     ]
    }
   ],
   "source": [
    "for s in df['logs'].to_numpy():\n",
    "    print(s, end=',')"
   ]
  },
  {
   "cell_type": "markdown",
   "id": "678a1023",
   "metadata": {},
   "source": [
    "Критерий Колмогорова-Смирнова для 2х выборок"
   ]
  },
  {
   "cell_type": "code",
   "execution_count": 32,
   "id": "d46d08d7",
   "metadata": {},
   "outputs": [
    {
     "data": {
      "text/plain": [
       "1.342"
      ]
     },
     "execution_count": 32,
     "metadata": {},
     "output_type": "execute_result"
    }
   ],
   "source": [
    "plac=array([int(x) for x in '156, 171, 133, 102, 129, 150, 120, 110, 112, 130'.split(', ')])\n",
    "nife=array([int(x) for x in '73, 81, 103, 88, 131, 106, 107, 111, 122, 108'.split(', ')])\n",
    "s,p=stats.ks_2samp(plac,nife)\n",
    "round(s*((len(plac)*len(nife)/(len(plac)+len(nife)))**0.5),3)"
   ]
  },
  {
   "cell_type": "code",
   "execution_count": 35,
   "id": "b99317bf",
   "metadata": {},
   "outputs": [
    {
     "data": {
      "text/plain": [
       "1.5174269646320033"
      ]
     },
     "execution_count": 35,
     "metadata": {},
     "output_type": "execute_result"
    }
   ],
   "source": [
    "# определения квантиля на уровне значимости 1-альфа\n",
    "stats.kstwobign.ppf(0.98)"
   ]
  },
  {
   "cell_type": "markdown",
   "id": "7446f80c",
   "metadata": {},
   "source": [
    "Критерий однородности Хи квадрат для 2х выборок"
   ]
  },
  {
   "cell_type": "code",
   "execution_count": 76,
   "id": "dd6ee0c7",
   "metadata": {},
   "outputs": [
    {
     "data": {
      "text/plain": [
       "0.01"
      ]
     },
     "execution_count": 76,
     "metadata": {},
     "output_type": "execute_result"
    }
   ],
   "source": [
    "a=array([int(x) for x in '200,190,195,190,194,202,202,207,205,220,213,196,203'.split(',')])\n",
    "b=array([int(x) for x in '205,202,218,213,198,198,195,204,197,202,201,205,201,197,198,197,209'.split(',')])\n",
    "delta=[189,200, 210,221]\n",
    "N=len(a)+len(b)\n",
    "n1=[0]*(len(delta)-1)\n",
    "n2=[0]*(len(delta)-1)\n",
    "v=[0]*(len(delta)-1)\n",
    "for s in a:\n",
    "    for i in range(len(delta)-1):\n",
    "        if s>delta[i] and s<=delta[i+1]:\n",
    "            n1[i]=n1[i]+1\n",
    "for s in b:\n",
    "    for i in range(len(delta)-1):\n",
    "        if s>delta[i] and s<=delta[i+1]:\n",
    "            n2[i]=n1[i]+1\n",
    "n1=[6,7]\n",
    "n2=[7,10]\n",
    "for i in range(len(n1)):\n",
    "    v[i]=(n1[i]+n2[i])/N\n",
    "\n",
    "z=sum(((math.fabs(n1[i]-len(a)*v[i])-0.5)**2)/(len(a)*v[i]) for i in range(2))+sum(((math.fabs(n2[i]-len(b)*v[i])-0.5)**2)/(len(b)*v[i]) for i in range(2))\n",
    "\n",
    "round(z,3)"
   ]
  },
  {
   "cell_type": "code",
   "execution_count": 3,
   "id": "c619c926",
   "metadata": {},
   "outputs": [
    {
     "data": {
      "text/plain": [
       "(0.7346258969958243,\n",
       " 0.692592865228864,\n",
       " 2,\n",
       " array([[18.13207547, 12.86792453],\n",
       "        [23.39622642, 16.60377358],\n",
       "        [20.47169811, 14.52830189]]))"
      ]
     },
     "execution_count": 3,
     "metadata": {},
     "output_type": "execute_result"
    }
   ],
   "source": [
    "m=array([120,28,2])\n",
    "z=array([74,59,17])\n",
    "alpha=0.05\n",
    "d=([20,23,19],[11,17,16])\n",
    "f=([20,11],[23,17],[19,16])\n",
    "N=m.sum()+z.sum()\n",
    "v=[0]*len(m)\n",
    "for i in range(len(m)):\n",
    "    v[i]=(m[i]+z[i])/N\n",
    "zz=sum((m[i]-m.sum()*v[i])**2/(m.sum()*v[i]) for i in range(3))+sum((z[i]-z.sum()*v[i])**2/(z.sum()*v[i]) for i in range(3))\n",
    "stats.chi2_contingency(f)"
   ]
  }
 ],
 "metadata": {
  "kernelspec": {
   "display_name": "Python 3 (ipykernel)",
   "language": "python",
   "name": "python3"
  },
  "language_info": {
   "codemirror_mode": {
    "name": "ipython",
    "version": 3
   },
   "file_extension": ".py",
   "mimetype": "text/x-python",
   "name": "python",
   "nbconvert_exporter": "python",
   "pygments_lexer": "ipython3",
   "version": "3.9.2"
  }
 },
 "nbformat": 4,
 "nbformat_minor": 5
}
