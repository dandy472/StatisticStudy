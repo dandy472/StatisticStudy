{
 "cells": [
  {
   "cell_type": "code",
   "execution_count": 1,
   "id": "ade29898",
   "metadata": {},
   "outputs": [],
   "source": [
    "import scipy\n",
    "import numpy\n",
    "from numpy import array\n",
    "from scipy import stats\n",
    "import matplotlib as plt\n",
    "ish = array([float (x) for x in '986, 1005, 991, 994, 983, 1002, 996, 998, 1002, 983'.split(', ')])"
   ]
  },
  {
   "cell_type": "markdown",
   "id": "5c0d9572",
   "metadata": {},
   "source": [
    "Расчёт значения р как  значение распределения стьюдента в статистике  z, поскольку неизвестна дисперсия и маленький размер выборки"
   ]
  },
  {
   "cell_type": "code",
   "execution_count": 27,
   "id": "6db74c89",
   "metadata": {},
   "outputs": [
    {
     "name": "stdout",
     "output_type": "stream",
     "text": [
      "0.042923125026275044\n"
     ]
    }
   ],
   "source": [
    "ish_mean=ish.mean()\n",
    "n=len(ish)\n",
    "sd=(sum((x-ish_mean)**2 for x in ish))/(n-1)\n",
    "s=sd**0.5\n",
    "alpha=0.05\n",
    "a0=1000\n",
    "z=(ish_mean-a0)*(n**0.5)/s\n",
    "p_val=2*min(stats.t.cdf(1-z,df=n-1), stats.t.cdf(z,df=n-1))\n",
    "print(p_i)"
   ]
  },
  {
   "cell_type": "code",
   "execution_count": 2,
   "id": "a8802515",
   "metadata": {},
   "outputs": [
    {
     "data": {
      "text/plain": [
       "11.650910032126951"
      ]
     },
     "execution_count": 2,
     "metadata": {},
     "output_type": "execute_result"
    }
   ],
   "source": [
    "from scipy import stats\n",
    "stats.chi2(df=19).ppf(0.1)"
   ]
  },
  {
   "cell_type": "code",
   "execution_count": 5,
   "id": "79bb1304",
   "metadata": {},
   "outputs": [
    {
     "name": "stdout",
     "output_type": "stream",
     "text": [
      "0.9451125755118109\n"
     ]
    }
   ],
   "source": [
    "n=25\n",
    "s2=13.5\n",
    "sig0=9\n",
    "alpha=0.05\n",
    "\n",
    "z=(n-1)*s2/9\n",
    "vk=stats.chi2(df=n-1).ppf(0.05)\n",
    "p_val=stats.chi2(df=n-1).cdf(z)\n",
    "print(p_val)"
   ]
  },
  {
   "cell_type": "markdown",
   "id": "28567ffb",
   "metadata": {},
   "source": [
    "Расчёт по распределению фишера значения статистики z  и критической области"
   ]
  },
  {
   "cell_type": "code",
   "execution_count": 13,
   "id": "b3df5b31",
   "metadata": {},
   "outputs": [
    {
     "name": "stdout",
     "output_type": "stream",
     "text": [
      "3.8613935969868174 0.16350773135811494 7.210635915223316\n"
     ]
    }
   ],
   "source": [
    "from scipy import stats\n",
    "alpha=0.01\n",
    "na=9\n",
    "nb=11\n",
    "sa=5.9*na/(na-1)\n",
    "sb=23.3*nb/(nb-1)\n",
    "z=sb/sa\n",
    "print(z,stats.f.ppf(alpha/2,nb-1,na-1),stats.f.ppf(1-alpha/2,nb-1,na-1))"
   ]
  },
  {
   "cell_type": "markdown",
   "id": "f115f1e1",
   "metadata": {},
   "source": [
    "Расчёт по критерию Стьюдента равенства  МО двух распределений"
   ]
  },
  {
   "cell_type": "code",
   "execution_count": 28,
   "id": "9428e074",
   "metadata": {},
   "outputs": [
    {
     "name": "stdout",
     "output_type": "stream",
     "text": [
      "1.3137029080232316\n"
     ]
    }
   ],
   "source": [
    "x1=12.57\n",
    "d1=0.91\n",
    "m=16\n",
    "x2=11.87\n",
    "d2=1.51\n",
    "n=9\n",
    "alp=0.02\n",
    "s1=m*d1/(m-1)\n",
    "s2=n*d2/(n-1)\n",
    "k=round(((s1/m+s2/n)**2)/((s1/m)**2/(m-1)+(s2/n)**2/(n-1)))\n",
    "print(stats.t.ppf(q=0.9,df=27))"
   ]
  },
  {
   "cell_type": "code",
   "execution_count": null,
   "id": "322d5983",
   "metadata": {},
   "outputs": [],
   "source": [
    "x1=12.57\n",
    "d1=0.91\n",
    "m=16\n",
    "x2=11.87\n",
    "d2=1.51\n",
    "n=9\n",
    "alp=0.02\n",
    "s1=m*d1/(m-1)\n",
    "s2=n*d2/(n-1)\n",
    "z=(x1-x2)/(s1/m+s2/n)**0.5\n",
    "k=round(((s1/m+s2/n)**2)/((s1/m)**2/(m-1)+(s2/n)**2/(n-1)))\n",
    "# расчёт p-value\n",
    "print(2*min((stats.t.cdf(x=z,df=k)),(1-stats.t.cdf(x=z,df=k))))"
   ]
  },
  {
   "cell_type": "markdown",
   "id": "bba6c569",
   "metadata": {},
   "source": [
    "Критерий Стьюдента для парных выборок"
   ]
  },
  {
   "cell_type": "code",
   "execution_count": 41,
   "id": "e3920e53",
   "metadata": {},
   "outputs": [
    {
     "name": "stdout",
     "output_type": "stream",
     "text": [
      "0.0033590577277037292\n"
     ]
    }
   ],
   "source": [
    "from numpy import array\n",
    "day2 = array([270, 236, 210, 142, 280, 272, 160, 220, 226, 242, 186, 266, 206, 318, 294, 282, 234, 224, 276, 282, 360, 310, 280, 278, 288, 288, 244, 236])\n",
    "day4 = array([218, 234, 214, 116, 200, 276, 146, 182, 238, 288, 190, 236, 244, 258, 240, 294, 220, 200, 220, 186, 352, 202, 218, 248, 278, 248, 270, 242])\n",
    "\n",
    "a1=day2.mean()\n",
    "a2=day4.mean()\n",
    "n=len(day2)\n",
    "q=a1-a2\n",
    "sq=sum((day2[i]-day4[i]-q)**2 for i in range(0,n))/(n-1)\n",
    "z=q*(n**0.5)/sq**0.5\n",
    "print((1-stats.t.cdf(x=z,df=k)))"
   ]
  },
  {
   "cell_type": "code",
   "execution_count": 42,
   "id": "bd2e2225",
   "metadata": {},
   "outputs": [
    {
     "data": {
      "text/plain": [
       "Ttest_relResult(statistic=3.2189402179896818, pvalue=0.0033372184510327622)"
      ]
     },
     "execution_count": 42,
     "metadata": {},
     "output_type": "execute_result"
    }
   ],
   "source": [
    "stats.ttest_rel (a=day2, b=day4)"
   ]
  },
  {
   "cell_type": "markdown",
   "id": "87f032f6",
   "metadata": {},
   "source": [
    "Критерий однородности Вилкоксона"
   ]
  },
  {
   "cell_type": "code",
   "execution_count": 69,
   "id": "31e6bc42",
   "metadata": {},
   "outputs": [
    {
     "name": "stdout",
     "output_type": "stream",
     "text": [
      "71.0\n"
     ]
    }
   ],
   "source": [
    "from numpy import array\n",
    "import numpy\n",
    "from scipy import stats\n",
    "ar_plac=array([156, 171, 133, 102, 129, 150, 120, 110, 112, 130])\n",
    "ar_nif=array([73, 81, 103, 88, 131, 106, 107, 111, 122, 108])\n",
    "b=numpy.concatenate((ar_nif,ar_plac))\n",
    "r=stats.rankdata(b)\n",
    "print(sum(x for x in r[0:len(ar_nif)]))"
   ]
  },
  {
   "cell_type": "markdown",
   "id": "4436df11",
   "metadata": {},
   "source": [
    "Критерий знаков"
   ]
  },
  {
   "cell_type": "code",
   "execution_count": 7,
   "id": "cd9e1227",
   "metadata": {},
   "outputs": [
    {
     "data": {
      "text/plain": [
       "4"
      ]
     },
     "execution_count": 7,
     "metadata": {},
     "output_type": "execute_result"
    }
   ],
   "source": [
    "X=array([69,80,92,81,70,79,78,66,57,77])\n",
    "Y=array([60,84,87,79,73,71,72,67,59,70])\n",
    "Z=array([X[i]-Y[i] for i in range(0,len(X))])\n",
    "l=0\n",
    "for i in range(0,len(Z)):\n",
    "    if Z[i]<0:\n",
    "        l=l+1 \n",
    "l"
   ]
  },
  {
   "cell_type": "code",
   "execution_count": 12,
   "id": "1e6bf5b2",
   "metadata": {},
   "outputs": [
    {
     "data": {
      "text/plain": [
       "2.0"
      ]
     },
     "execution_count": 12,
     "metadata": {},
     "output_type": "execute_result"
    }
   ],
   "source": [
    "scipy.stats.wilcoxon(X,Y)\n",
    "stats.binom.ppf(0.05, len(X), 0.5)"
   ]
  }
 ],
 "metadata": {
  "kernelspec": {
   "display_name": "Python 3 (ipykernel)",
   "language": "python",
   "name": "python3"
  },
  "language_info": {
   "codemirror_mode": {
    "name": "ipython",
    "version": 3
   },
   "file_extension": ".py",
   "mimetype": "text/x-python",
   "name": "python",
   "nbconvert_exporter": "python",
   "pygments_lexer": "ipython3",
   "version": "3.9.2"
  }
 },
 "nbformat": 4,
 "nbformat_minor": 5
}
